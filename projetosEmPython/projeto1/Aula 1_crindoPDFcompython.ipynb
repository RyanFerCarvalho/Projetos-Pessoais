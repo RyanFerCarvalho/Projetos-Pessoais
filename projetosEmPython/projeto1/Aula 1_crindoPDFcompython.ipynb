{
 "cells": [
  {
   "cell_type": "markdown",
   "id": "99794bd4-cf03-4ed3-af72-6361c5650b98",
   "metadata": {},
   "source": [
    "# Aula 1"
   ]
  },
  {
   "cell_type": "markdown",
   "id": "e545c008-8e8c-4bff-a376-5a54a7ba44b4",
   "metadata": {},
   "source": [
    "## Comandos:"
   ]
  },
  {
   "cell_type": "markdown",
   "id": "a5686857-5502-4008-a285-b4dd96f327e0",
   "metadata": {},
   "source": [
    "### Print: Imprime uma mensage(valor) no terminal"
   ]
  },
  {
   "cell_type": "code",
   "execution_count": 4,
   "id": "d6ddc858-dc48-4ce6-90c8-4fb4d359366f",
   "metadata": {},
   "outputs": [
    {
     "name": "stdout",
     "output_type": "stream",
     "text": [
      "Olá mundo\n"
     ]
    }
   ],
   "source": [
    "print(\"Olá mundo\")"
   ]
  },
  {
   "cell_type": "markdown",
   "id": "d51c300a-ebd6-4dd6-8c63-6b938e0077ba",
   "metadata": {},
   "source": [
    "### Input: Faz a requisição(pede para que seja digitado) de um valor no terminal"
   ]
  },
  {
   "cell_type": "code",
   "execution_count": 5,
   "id": "2ab6f412-d85c-484f-ae0b-af44c16429da",
   "metadata": {},
   "outputs": [
    {
     "name": "stdin",
     "output_type": "stream",
     "text": [
      "Digíte seu nome:  Ryan\n"
     ]
    },
    {
     "data": {
      "text/plain": [
       "'Ryan'"
      ]
     },
     "execution_count": 5,
     "metadata": {},
     "output_type": "execute_result"
    }
   ],
   "source": [
    "input(\"Digite seu nome: \")"
   ]
  },
  {
   "cell_type": "markdown",
   "id": "b129861f-b580-4e48-8678-cadb4030f467",
   "metadata": {},
   "source": [
    "### Variáveis: Unidade de armazenamento de dados(valores) do código"
   ]
  },
  {
   "cell_type": "code",
   "execution_count": 12,
   "id": "08c94cfe-fd38-48d8-85a5-0c357f715699",
   "metadata": {},
   "outputs": [
    {
     "name": "stdin",
     "output_type": "stream",
     "text": [
      "Digíte seu nome:  a\n"
     ]
    },
    {
     "name": "stdout",
     "output_type": "stream",
     "text": [
      "Aroldo a Angelo 10\n"
     ]
    }
   ],
   "source": [
    "nome = \"Aroldo\"\n",
    "Nome = input(\"Digite seu nome: \")\n",
    "numero = 10\n",
    "\n",
    "print(nome, Nome, \"Angelo\", numero)"
   ]
  },
  {
   "cell_type": "markdown",
   "id": "74bd2a3d-df73-4650-9309-2be43cf37b50",
   "metadata": {},
   "source": [
    "### Type: Verifica o tipo de dado de um valor\n",
    "- Texto: String/str\n",
    "- Número(inteiro): Integer/int "
   ]
  },
  {
   "cell_type": "code",
   "execution_count": 59,
   "id": "241acde7-c477-4727-b19d-4d9f4df4e77d",
   "metadata": {},
   "outputs": [
    {
     "name": "stdout",
     "output_type": "stream",
     "text": [
      "<class 'str'> <class 'int'> <class 'str'>\n"
     ]
    }
   ],
   "source": [
    "nome2 = \"João\"\n",
    "numero = 10\n",
    "numero2 = \"21\"\n",
    "\n",
    "print(type(nome2), type(numero), type(numero2))\n"
   ]
  },
  {
   "cell_type": "markdown",
   "id": "2e8a80b4-df82-49c9-9cb1-42b879bfa992",
   "metadata": {},
   "source": [
    "### Converter o tipo de dado de um valor\n",
    "- int: Converte para o tipo de dado integer/int(inteiro)\n",
    "- str: Converte para o tipo de dado string/str(textp)"
   ]
  },
  {
   "cell_type": "code",
   "execution_count": 29,
   "id": "de31ef7e-d6e7-4cec-a3ec-86e6ac5d86e5",
   "metadata": {},
   "outputs": [
    {
     "name": "stdout",
     "output_type": "stream",
     "text": [
      "<class 'str'> <class 'int'>\n",
      "<class 'int'> <class 'str'>\n"
     ]
    }
   ],
   "source": [
    "string = \"10\"\n",
    "integer = 10\n",
    "\n",
    "print(type(string), type(integer))\n",
    "print(type(int(string)), type(str(integer)))"
   ]
  },
  {
   "cell_type": "markdown",
   "id": "6a7f146a-e6b0-4fc1-ab11-98452c6d4a20",
   "metadata": {},
   "source": [
    "### Operações matemáticas em Python\n",
    "- soma: +\n",
    "- subtração: -\n",
    "- multiplicação: *\n",
    "- divisão: /"
   ]
  },
  {
   "cell_type": "code",
   "execution_count": 48,
   "id": "02ec4a0a-d4c3-487b-aca9-e6bfc5584b09",
   "metadata": {},
   "outputs": [
    {
     "name": "stdout",
     "output_type": "stream",
     "text": [
      "10\n",
      "3\n",
      "50\n",
      "2.0\n",
      "\n",
      "4 1 16 2.0\n"
     ]
    }
   ],
   "source": [
    "# Operações matemáticas só podem ser feitas entre dois dados de tipos numéricos\n",
    "\n",
    "print(5+5)\n",
    "print(5-2)\n",
    "print(5*10)\n",
    "print(10/5)\n",
    "\n",
    "print(\"\\n\"+str(2+2), 3-2, 4*4, 6/3)"
   ]
  },
  {
   "cell_type": "markdown",
   "id": "6c4690e3-8393-482c-ba4a-0fd1d0a39e67",
   "metadata": {},
   "source": [
    "### Concatenação em Python"
   ]
  },
  {
   "cell_type": "code",
   "execution_count": 53,
   "id": "de089405-fcea-49b9-a959-b652bc6d7a9e",
   "metadata": {},
   "outputs": [
    {
     "name": "stdout",
     "output_type": "stream",
     "text": [
      "carro\n",
      "\n",
      "Teste\n",
      "\n",
      "Olá, estou testando concatenações de 'strings'\n"
     ]
    }
   ],
   "source": [
    "# Concatenações(junções) só podem ser feitas entre dois dados de tipos textuais\n",
    "\n",
    "silaba = \"car\"\n",
    "silaba2 = \"ro\"\n",
    "\n",
    "print(silaba + silaba2)\n",
    "print(\"\\nTes\"+\"te\")\n",
    "print(\"\\n\"+\"Ol\"+\"á\"+\", estou testando concatenações de 'strings'\")"
   ]
  },
  {
   "cell_type": "markdown",
   "id": "50c1c23a-fe3a-45ad-9d11-1a716d7e866f",
   "metadata": {},
   "source": [
    "## Gerando um arquivo PDF com Python:"
   ]
  },
  {
   "cell_type": "markdown",
   "id": "2d0e59fe-1f52-4d2f-9da4-cfc3db4f8ce6",
   "metadata": {},
   "source": [
    "### Inicializando a biblioteca FPDF"
   ]
  },
  {
   "cell_type": "code",
   "execution_count": 1,
   "id": "a1d22237-1a04-47f0-88a0-19f209b5d89d",
   "metadata": {},
   "outputs": [
    {
     "name": "stdout",
     "output_type": "stream",
     "text": [
      "Requirement already satisfied: fpdf in c:\\users\\ryane\\onedrive\\imagens\\documents\\documentos\\_ce\\coisas baixadas\\programas\\anaconda\\programa\\lib\\site-packages (1.7.2)\n"
     ]
    }
   ],
   "source": [
    "# Instalando a biblioteca\n",
    "!pip install fpdf \n",
    "# Importando a biblioteca\n",
    "from fpdf import FPDF"
   ]
  },
  {
   "cell_type": "markdown",
   "id": "0c395cef-0508-4dc2-9e75-fc764cb80016",
   "metadata": {},
   "source": [
    "### Criando o arquivo PDF"
   ]
  },
  {
   "cell_type": "code",
   "execution_count": 2,
   "id": "27ccc682-5a61-4952-8582-fe2556831868",
   "metadata": {},
   "outputs": [
    {
     "name": "stdin",
     "output_type": "stream",
     "text": [
      "Digite a descrição/título do projeto:  Criação de PDFs utilizando Python\n",
      "Informe a estimativa de horas de desenvolvimento do projeto:  230\n",
      "Informe o valor da hora trabalhada 132.50\n",
      "Informe o prazo estimado de entrega do projeto:  3 meses\n"
     ]
    },
    {
     "name": "stdout",
     "output_type": "stream",
     "text": [
      "Orçamento gerado com sucesso\n"
     ]
    }
   ],
   "source": [
    "projeto_descricao = input(\"Digite a descrição/título do projeto: \")\n",
    "horas_estimativa = input(\"Informe a estimativa de horas de desenvolvimento do projeto: \")\n",
    "hora_valor = input(\"Informe o valor da hora trabalhada\")\n",
    "periodo_estimativa = input(\"Informe o prazo estimado de entrega do projeto: \")\n",
    "valor_final_estimativa = float(hora_valor) * int(horas_estimativa)\n",
    "pdf = FPDF()\n",
    "\n",
    "pdf.add_page()\n",
    "\n",
    "pdf.set_font(\"Arial\")\n",
    "\n",
    "pdf.image(\"template.png\", 0, 0)\n",
    "\n",
    "pdf.text(115, 145, projeto_descricao)\n",
    "pdf.text(115, 160, horas_estimativa)\n",
    "pdf.text(115, 175, hora_valor)\n",
    "pdf.text(115, 190, periodo_estimativa)\n",
    "pdf.text(115, 205, str(valor_final_estimativa))\n",
    "\n",
    "pdf.output(\"Orçamento.pdf\")\n",
    "\n",
    "print(\"Orçamento gerado com sucesso\")"
   ]
  }
 ],
 "metadata": {
  "kernelspec": {
   "display_name": "Python 3 (ipykernel)",
   "language": "python",
   "name": "python3"
  },
  "language_info": {
   "codemirror_mode": {
    "name": "ipython",
    "version": 3
   },
   "file_extension": ".py",
   "mimetype": "text/x-python",
   "name": "python",
   "nbconvert_exporter": "python",
   "pygments_lexer": "ipython3",
   "version": "3.11.7"
  }
 },
 "nbformat": 4,
 "nbformat_minor": 5
}
