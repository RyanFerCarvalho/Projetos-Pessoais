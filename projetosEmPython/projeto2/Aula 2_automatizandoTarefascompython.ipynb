{
 "cells": [
  {
   "cell_type": "markdown",
   "id": "3732c0f6-76f7-4681-adc9-b939ee684aaf",
   "metadata": {},
   "source": [
    "# Aula 2"
   ]
  },
  {
   "cell_type": "markdown",
   "id": "7b265004-1799-4583-a26f-a696bd80efba",
   "metadata": {},
   "source": [
    "## Automatizando o envio de E-mails e analise dos dados de uma tabela"
   ]
  },
  {
   "cell_type": "markdown",
   "id": "7568e626-9fd1-44e4-bb93-b528a6318fe8",
   "metadata": {},
   "source": [
    "### Seções de desenvolvimento(codificação)\n",
    "- Buscar e trabalhar a tabela de dados\n",
    "- Desenvolver e enviar o E-mail"
   ]
  },
  {
   "cell_type": "markdown",
   "id": "18b6bdd0-efe9-4342-ae52-3cffbdf5ef3c",
   "metadata": {},
   "source": [
    "#### Busca e trabalho da tabela de dados\n",
    "- Instalar as bibliotecas\n",
    "- Importar as bibliotecas\n",
    "- Buscar a tabela com as informações\n",
    "- Trabalhar as informações(Buscar os dados específicos)"
   ]
  },
  {
   "cell_type": "code",
   "execution_count": 20,
   "id": "e5f562d5-a0df-4ad5-9ff3-ac76411d3534",
   "metadata": {},
   "outputs": [
    {
     "name": "stdout",
     "output_type": "stream",
     "text": [
      "Requirement already satisfied: yfinance in c:\\users\\ryane\\onedrive\\imagens\\documents\\documentos\\_ce\\coisas baixadas\\programas\\anaconda\\programa\\lib\\site-packages (0.2.37)\n",
      "Requirement already satisfied: pandas>=1.3.0 in c:\\users\\ryane\\onedrive\\imagens\\documents\\documentos\\_ce\\coisas baixadas\\programas\\anaconda\\programa\\lib\\site-packages (from yfinance) (2.1.4)\n",
      "Requirement already satisfied: numpy>=1.16.5 in c:\\users\\ryane\\onedrive\\imagens\\documents\\documentos\\_ce\\coisas baixadas\\programas\\anaconda\\programa\\lib\\site-packages (from yfinance) (1.26.4)\n",
      "Requirement already satisfied: requests>=2.31 in c:\\users\\ryane\\onedrive\\imagens\\documents\\documentos\\_ce\\coisas baixadas\\programas\\anaconda\\programa\\lib\\site-packages (from yfinance) (2.31.0)\n",
      "Requirement already satisfied: multitasking>=0.0.7 in c:\\users\\ryane\\onedrive\\imagens\\documents\\documentos\\_ce\\coisas baixadas\\programas\\anaconda\\programa\\lib\\site-packages (from yfinance) (0.0.11)\n",
      "Requirement already satisfied: lxml>=4.9.1 in c:\\users\\ryane\\onedrive\\imagens\\documents\\documentos\\_ce\\coisas baixadas\\programas\\anaconda\\programa\\lib\\site-packages (from yfinance) (4.9.3)\n",
      "Requirement already satisfied: appdirs>=1.4.4 in c:\\users\\ryane\\onedrive\\imagens\\documents\\documentos\\_ce\\coisas baixadas\\programas\\anaconda\\programa\\lib\\site-packages (from yfinance) (1.4.4)\n",
      "Requirement already satisfied: pytz>=2022.5 in c:\\users\\ryane\\onedrive\\imagens\\documents\\documentos\\_ce\\coisas baixadas\\programas\\anaconda\\programa\\lib\\site-packages (from yfinance) (2023.3.post1)\n",
      "Requirement already satisfied: frozendict>=2.3.4 in c:\\users\\ryane\\onedrive\\imagens\\documents\\documentos\\_ce\\coisas baixadas\\programas\\anaconda\\programa\\lib\\site-packages (from yfinance) (2.4.0)\n",
      "Requirement already satisfied: peewee>=3.16.2 in c:\\users\\ryane\\onedrive\\imagens\\documents\\documentos\\_ce\\coisas baixadas\\programas\\anaconda\\programa\\lib\\site-packages (from yfinance) (3.17.1)\n",
      "Requirement already satisfied: beautifulsoup4>=4.11.1 in c:\\users\\ryane\\onedrive\\imagens\\documents\\documentos\\_ce\\coisas baixadas\\programas\\anaconda\\programa\\lib\\site-packages (from yfinance) (4.12.2)\n",
      "Requirement already satisfied: html5lib>=1.1 in c:\\users\\ryane\\onedrive\\imagens\\documents\\documentos\\_ce\\coisas baixadas\\programas\\anaconda\\programa\\lib\\site-packages (from yfinance) (1.1)\n",
      "Requirement already satisfied: soupsieve>1.2 in c:\\users\\ryane\\onedrive\\imagens\\documents\\documentos\\_ce\\coisas baixadas\\programas\\anaconda\\programa\\lib\\site-packages (from beautifulsoup4>=4.11.1->yfinance) (2.5)\n",
      "Requirement already satisfied: six>=1.9 in c:\\users\\ryane\\onedrive\\imagens\\documents\\documentos\\_ce\\coisas baixadas\\programas\\anaconda\\programa\\lib\\site-packages (from html5lib>=1.1->yfinance) (1.16.0)\n",
      "Requirement already satisfied: webencodings in c:\\users\\ryane\\onedrive\\imagens\\documents\\documentos\\_ce\\coisas baixadas\\programas\\anaconda\\programa\\lib\\site-packages (from html5lib>=1.1->yfinance) (0.5.1)\n",
      "Requirement already satisfied: python-dateutil>=2.8.2 in c:\\users\\ryane\\onedrive\\imagens\\documents\\documentos\\_ce\\coisas baixadas\\programas\\anaconda\\programa\\lib\\site-packages (from pandas>=1.3.0->yfinance) (2.8.2)\n",
      "Requirement already satisfied: tzdata>=2022.1 in c:\\users\\ryane\\onedrive\\imagens\\documents\\documentos\\_ce\\coisas baixadas\\programas\\anaconda\\programa\\lib\\site-packages (from pandas>=1.3.0->yfinance) (2023.3)\n",
      "Requirement already satisfied: charset-normalizer<4,>=2 in c:\\users\\ryane\\onedrive\\imagens\\documents\\documentos\\_ce\\coisas baixadas\\programas\\anaconda\\programa\\lib\\site-packages (from requests>=2.31->yfinance) (2.0.4)\n",
      "Requirement already satisfied: idna<4,>=2.5 in c:\\users\\ryane\\onedrive\\imagens\\documents\\documentos\\_ce\\coisas baixadas\\programas\\anaconda\\programa\\lib\\site-packages (from requests>=2.31->yfinance) (3.4)\n",
      "Requirement already satisfied: urllib3<3,>=1.21.1 in c:\\users\\ryane\\onedrive\\imagens\\documents\\documentos\\_ce\\coisas baixadas\\programas\\anaconda\\programa\\lib\\site-packages (from requests>=2.31->yfinance) (2.0.7)\n",
      "Requirement already satisfied: certifi>=2017.4.17 in c:\\users\\ryane\\onedrive\\imagens\\documents\\documentos\\_ce\\coisas baixadas\\programas\\anaconda\\programa\\lib\\site-packages (from requests>=2.31->yfinance) (2024.2.2)\n"
     ]
    }
   ],
   "source": [
    "#Instalando a biblioteca que permitirá o acesso aos dados do yahoo finance\n",
    "!pip install yfinance\n",
    "\n",
    "#Importando a biblioteca\n",
    "import yfinance"
   ]
  },
  {
   "cell_type": "code",
   "execution_count": 12,
   "id": "46da91a0-c722-4684-9399-94bdcd793f89",
   "metadata": {},
   "outputs": [
    {
     "name": "stdout",
     "output_type": "stream",
     "text": [
      "Requirement already satisfied: yfinance in c:\\users\\ryane\\onedrive\\imagens\\documents\\documentos\\_ce\\coisas baixadas\\programas\\anaconda\\programa\\lib\\site-packages (0.2.37)\n",
      "Requirement already satisfied: pandas>=1.3.0 in c:\\users\\ryane\\onedrive\\imagens\\documents\\documentos\\_ce\\coisas baixadas\\programas\\anaconda\\programa\\lib\\site-packages (from yfinance) (2.1.4)\n",
      "Requirement already satisfied: numpy>=1.16.5 in c:\\users\\ryane\\onedrive\\imagens\\documents\\documentos\\_ce\\coisas baixadas\\programas\\anaconda\\programa\\lib\\site-packages (from yfinance) (1.26.4)\n",
      "Requirement already satisfied: requests>=2.31 in c:\\users\\ryane\\onedrive\\imagens\\documents\\documentos\\_ce\\coisas baixadas\\programas\\anaconda\\programa\\lib\\site-packages (from yfinance) (2.31.0)\n",
      "Requirement already satisfied: multitasking>=0.0.7 in c:\\users\\ryane\\onedrive\\imagens\\documents\\documentos\\_ce\\coisas baixadas\\programas\\anaconda\\programa\\lib\\site-packages (from yfinance) (0.0.11)\n",
      "Requirement already satisfied: lxml>=4.9.1 in c:\\users\\ryane\\onedrive\\imagens\\documents\\documentos\\_ce\\coisas baixadas\\programas\\anaconda\\programa\\lib\\site-packages (from yfinance) (4.9.3)\n",
      "Requirement already satisfied: appdirs>=1.4.4 in c:\\users\\ryane\\onedrive\\imagens\\documents\\documentos\\_ce\\coisas baixadas\\programas\\anaconda\\programa\\lib\\site-packages (from yfinance) (1.4.4)\n",
      "Requirement already satisfied: pytz>=2022.5 in c:\\users\\ryane\\onedrive\\imagens\\documents\\documentos\\_ce\\coisas baixadas\\programas\\anaconda\\programa\\lib\\site-packages (from yfinance) (2023.3.post1)\n",
      "Requirement already satisfied: frozendict>=2.3.4 in c:\\users\\ryane\\onedrive\\imagens\\documents\\documentos\\_ce\\coisas baixadas\\programas\\anaconda\\programa\\lib\\site-packages (from yfinance) (2.4.0)\n",
      "Requirement already satisfied: peewee>=3.16.2 in c:\\users\\ryane\\onedrive\\imagens\\documents\\documentos\\_ce\\coisas baixadas\\programas\\anaconda\\programa\\lib\\site-packages (from yfinance) (3.17.1)\n",
      "Requirement already satisfied: beautifulsoup4>=4.11.1 in c:\\users\\ryane\\onedrive\\imagens\\documents\\documentos\\_ce\\coisas baixadas\\programas\\anaconda\\programa\\lib\\site-packages (from yfinance) (4.12.2)\n",
      "Requirement already satisfied: html5lib>=1.1 in c:\\users\\ryane\\onedrive\\imagens\\documents\\documentos\\_ce\\coisas baixadas\\programas\\anaconda\\programa\\lib\\site-packages (from yfinance) (1.1)\n",
      "Requirement already satisfied: soupsieve>1.2 in c:\\users\\ryane\\onedrive\\imagens\\documents\\documentos\\_ce\\coisas baixadas\\programas\\anaconda\\programa\\lib\\site-packages (from beautifulsoup4>=4.11.1->yfinance) (2.5)\n",
      "Requirement already satisfied: six>=1.9 in c:\\users\\ryane\\onedrive\\imagens\\documents\\documentos\\_ce\\coisas baixadas\\programas\\anaconda\\programa\\lib\\site-packages (from html5lib>=1.1->yfinance) (1.16.0)\n",
      "Requirement already satisfied: webencodings in c:\\users\\ryane\\onedrive\\imagens\\documents\\documentos\\_ce\\coisas baixadas\\programas\\anaconda\\programa\\lib\\site-packages (from html5lib>=1.1->yfinance) (0.5.1)\n",
      "Requirement already satisfied: python-dateutil>=2.8.2 in c:\\users\\ryane\\onedrive\\imagens\\documents\\documentos\\_ce\\coisas baixadas\\programas\\anaconda\\programa\\lib\\site-packages (from pandas>=1.3.0->yfinance) (2.8.2)\n",
      "Requirement already satisfied: tzdata>=2022.1 in c:\\users\\ryane\\onedrive\\imagens\\documents\\documentos\\_ce\\coisas baixadas\\programas\\anaconda\\programa\\lib\\site-packages (from pandas>=1.3.0->yfinance) (2023.3)\n",
      "Requirement already satisfied: charset-normalizer<4,>=2 in c:\\users\\ryane\\onedrive\\imagens\\documents\\documentos\\_ce\\coisas baixadas\\programas\\anaconda\\programa\\lib\\site-packages (from requests>=2.31->yfinance) (2.0.4)\n",
      "Requirement already satisfied: idna<4,>=2.5 in c:\\users\\ryane\\onedrive\\imagens\\documents\\documentos\\_ce\\coisas baixadas\\programas\\anaconda\\programa\\lib\\site-packages (from requests>=2.31->yfinance) (3.4)\n",
      "Requirement already satisfied: urllib3<3,>=1.21.1 in c:\\users\\ryane\\onedrive\\imagens\\documents\\documentos\\_ce\\coisas baixadas\\programas\\anaconda\\programa\\lib\\site-packages (from requests>=2.31->yfinance) (2.0.7)\n",
      "Requirement already satisfied: certifi>=2017.4.17 in c:\\users\\ryane\\onedrive\\imagens\\documents\\documentos\\_ce\\coisas baixadas\\programas\\anaconda\\programa\\lib\\site-packages (from requests>=2.31->yfinance) (2024.2.2)\n"
     ]
    },
    {
     "name": "stdin",
     "output_type": "stream",
     "text": [
      "Digite o ticker(código) da ação desejada:  AXRP-USD.SW\n"
     ]
    }
   ],
   "source": [
    "#Acessando e trabalhando os dados tabela\n",
    "#Requisitando o código da ação desejada\n",
    "ticker = input(\"Digite o ticker(código) da ação desejada: \")\n",
    "#Acessando a tabela com as imformaçoes, e armazenando em uma variável\n",
    "tabela_acao = yfinance.Ticker(ticker).history(\"6mo\")\n",
    "#Acessando os dados específicos de fechamento da tabela\n",
    "tabela_acao_close = tabela_acao.Close\n",
    "\n",
    "#Extraindo valores específicos dos dados específicos tabela\n",
    "#Extraindo o maior valor da tabela\n",
    "tabela_acao_close_max = tabela_acao_close.max()\n",
    "#Extraindo o menor valor da tabela\n",
    "tabela_acao_close_min = tabela_acao_close.min()\n",
    "#Extraindo o valor atual da tabela\n",
    "tabela_acao_close_atual = tabela_acao_close.iloc[-1]"
   ]
  },
  {
   "cell_type": "markdown",
   "id": "36b63188-83c1-4ca4-b06d-827f760aafe7",
   "metadata": {},
   "source": [
    "#### Desenvolvimento e envio do E-mail\n",
    "- Instalar as bibliotecas\n",
    "- Importar as bibliotecas\n",
    "- Acessar o site do E-mail\n",
    "- Desenvolver o E-mail"
   ]
  },
  {
   "cell_type": "code",
   "execution_count": null,
   "id": "3e570e89-bd00-4aa6-bb5d-d2f56f3f4435",
   "metadata": {},
   "outputs": [],
   "source": [
    "#Instalando as bibliotecas que irão controlar as teclas, o cursor, e a copia de \"mensagens\"\n",
    "#Biblioteca que controla o cursor e teclas\n",
    "!pip install pyautogui\n",
    "#Biblioteca que copia \"mensagens\"\n",
    "!pip install pyperclip\n",
    "\n",
    "#Importando as bibliotecas\n",
    "import pyautogui\n",
    "import pyperclip"
   ]
  },
  {
   "cell_type": "code",
   "execution_count": 34,
   "id": "ef705e36-3a3f-4e6a-af6e-1ddbae67fdd5",
   "metadata": {},
   "outputs": [],
   "source": [
    "#Definindo o período de espera entre comandos do Pyautogui\n",
    "pyautogui.PAUSE = 7\n",
    "\n",
    "#Preparando e enviando o E-mail\n",
    "#Acessando o navegador EDGE\n",
    "pyautogui.click(537, 754)\n",
    "#Abrindo uma nova guia no EDGE\n",
    "pyautogui.hotkey(\"ctrl\", \"t\")\n",
    "#Inserindo à \"cópia\"(Ctrl C) o domínio do Gmail\n",
    "pyperclip.copy(\"www.gmail.com\")\n",
    "#Colando o domínio do Gmail na barra de pesquisa de url do EDGE\n",
    "pyautogui.hotkey(\"ctrl\", \"v\")\n",
    "#\"Ativando\" a barra de pesquisa com o \"Enter\"\n",
    "pyautogui.hotkey(\"enter\")\n",
    "#Abrindo o modal de criação de E-mail do Gmail\n",
    "pyautogui.click(105, 213)\n",
    "#Inserindo à \"cópia\"(Ctrl C) o destinatário\n",
    "pyperclip.copy(\"ryanfernandocarvalho@gmail.com\")\n",
    "#Colando o destinatário no \"para\" do E-mail em criação\n",
    "pyautogui.hotkey(\"ctrl\", \"v\")\n",
    "#Alterando o \"foco\"(seleção) para o proximo input(assunto)\n",
    "pyautogui.hotkey(\"tab\")\n",
    "#Inserindo à \"cópia\"(Ctrl C) o assunto do E-mail\n",
    "pyperclip.copy(\"Análise diária dos valores das ações\")\n",
    "#Colando o assunto no \"assunto\" do E-mail em criação\n",
    "pyautogui.hotkey(\"ctrl\", \"v\")\n",
    "#Alterando o \"foco\"(seleção) para o proximo input(corpo do E-mail)\n",
    "pyautogui.hotkey(\"tab\")\n",
    "#Inserindo à \"cópia\"(Ctrl C) o E-mail\n",
    "pyperclip.copy(f\"\"\"Prezado Gestor\n",
    "\n",
    "Seguem, abaixo, os valores requisitados da tabela de valores de fechamento das ações nos últimos 6 meses:\n",
    "\n",
    "Valor máximo: {round(tabela_acao_close_max, 2)}\n",
    "Valor mínimo: {round(tabela_acao_close_min, 2)}\n",
    "Valor atual: {round(tabela_acao_close_atual, 2)}\n",
    "\n",
    "Desde já, agradeço a confiança.\n",
    "\n",
    "Caso necessite, estou à disposição\"\"\")\n",
    "#Colando o E-mail no \"corpo\" do E-mail em criação\n",
    "pyautogui.hotkey(\"ctrl\", \"v\")\n",
    "#Enviando o E-mail criado\n",
    "pyautogui.click(832, 693)"
   ]
  },
  {
   "cell_type": "markdown",
   "id": "3f569063-9828-4d0c-8891-371c9fdca766",
   "metadata": {},
   "source": [
    "#### Código de coordenadas de posicionamento"
   ]
  },
  {
   "cell_type": "code",
   "execution_count": null,
   "id": "3f7dafbc-ce26-4cc6-9bac-e011f2497488",
   "metadata": {},
   "outputs": [],
   "source": [
    "#Importando a biblioteca interna de tempo do python\n",
    "import time"
   ]
  },
  {
   "cell_type": "code",
   "execution_count": 32,
   "id": "e4a54eec-1ae2-4f29-b93c-c54dad0e6876",
   "metadata": {},
   "outputs": [
    {
     "data": {
      "text/plain": [
       "Point(x=832, y=693)"
      ]
     },
     "execution_count": 32,
     "metadata": {},
     "output_type": "execute_result"
    }
   ],
   "source": [
    "#Definindo tempo de espera(desatividade) do código\n",
    "time.sleep(5)\n",
    "\n",
    "#Encontrado coordenadas do cursor\n",
    "pyautogui.position()"
   ]
  }
 ],
 "metadata": {
  "kernelspec": {
   "display_name": "Python 3 (ipykernel)",
   "language": "python",
   "name": "python3"
  },
  "language_info": {
   "codemirror_mode": {
    "name": "ipython",
    "version": 3
   },
   "file_extension": ".py",
   "mimetype": "text/x-python",
   "name": "python",
   "nbconvert_exporter": "python",
   "pygments_lexer": "ipython3",
   "version": "3.11.7"
  }
 },
 "nbformat": 4,
 "nbformat_minor": 5
}
